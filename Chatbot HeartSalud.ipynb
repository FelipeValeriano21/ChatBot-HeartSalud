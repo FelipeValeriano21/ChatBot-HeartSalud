{
 "cells": [
  {
   "cell_type": "markdown",
   "id": "63c08cfe",
   "metadata": {},
   "source": [
    "# Etapa 01: Importação das bilbiotecas"
   ]
  },
  {
   "cell_type": "code",
   "execution_count": null,
   "id": "62af441a",
   "metadata": {},
   "outputs": [],
   "source": [
    "import bs4 as bs\n",
    "import urllib.request\n",
    "import re\n",
    "import nltk\n",
    "import numpy as np\n",
    "import random\n",
    "import string"
   ]
  },
  {
   "cell_type": "code",
   "execution_count": null,
   "id": "06c0af66",
   "metadata": {},
   "outputs": [],
   "source": [
    "nltk.download('punkt')"
   ]
  },
  {
   "cell_type": "code",
   "execution_count": null,
   "id": "6488e815",
   "metadata": {},
   "outputs": [],
   "source": [
    "pip install -U spacy"
   ]
  },
  {
   "cell_type": "code",
   "execution_count": null,
   "id": "8e51055a",
   "metadata": {},
   "outputs": [],
   "source": [
    "import spacy"
   ]
  },
  {
   "cell_type": "code",
   "execution_count": null,
   "id": "35dcea23",
   "metadata": {},
   "outputs": [],
   "source": [
    "import spacy.cli\n",
    "spacy.cli.download(\"pt_core_news_sm\")"
   ]
  },
  {
   "cell_type": "code",
   "execution_count": null,
   "id": "e66d9135",
   "metadata": {},
   "outputs": [],
   "source": [
    "nlp = spacy.load('pt_core_news_sm')"
   ]
  },
  {
   "cell_type": "markdown",
   "id": "c8cbd130",
   "metadata": {},
   "source": [
    "# Etapa 02: Seleção dos dados"
   ]
  },
  {
   "cell_type": "code",
   "execution_count": null,
   "id": "189deb93",
   "metadata": {},
   "outputs": [],
   "source": [
    "import urllib.request \n",
    "from bs4 import BeautifulSoup as bs\n",
    "\n",
    "def indexarDados(urls):\n",
    "    conteudo_completo = \"\"  \n",
    "    \n",
    "    for url in urls:\n",
    "        try:\n",
    "            link = urllib.request.urlopen(url) \n",
    "            conteudo = link.read() \n",
    "            conteudo_html = bs(conteudo, 'lxml') \n",
    "            \n",
    "           \n",
    "            paragrafos = conteudo_html.find_all('p')  \n",
    "            conteudo = '' \n",
    "            \n",
    "            for p in paragrafos:\n",
    "                conteudo += p.text + \"\\n\" \n",
    "\n",
    "            conteudo_completo += conteudo + \"\\n\\n\" \n",
    "        except Exception as e:\n",
    "            print(f\"Erro ao acessar a URL {url}: {e}\")\n",
    "\n",
    "    return conteudo_completo \n",
    "\n",
    "\n",
    "urls = [\n",
    "    'https://pt.wikipedia.org/wiki/Cora%C3%A7%C3%A3o',\n",
    "    'https://pt.wikipedia.org/wiki/Ventr%C3%ADculo',\n",
    "    'https://pt.wikipedia.org/wiki/Doen%C3%A7a_cardiovascular'\n",
    "]\n",
    "\n",
    "conteudo_combined = indexarDados(urls)  \n",
    "\n",
    "print(conteudo_combined)  \n"
   ]
  },
  {
   "cell_type": "markdown",
   "id": "87422eb5",
   "metadata": {},
   "source": [
    "#  Etapa 03: Pré-Processamento da base"
   ]
  },
  {
   "cell_type": "code",
   "execution_count": null,
   "id": "2b2fdfef",
   "metadata": {},
   "outputs": [],
   "source": [
    "conteudo = conteudo_combined.lower()\n",
    "conteudo"
   ]
  },
  {
   "cell_type": "code",
   "execution_count": null,
   "id": "335f2482",
   "metadata": {},
   "outputs": [],
   "source": [
    "lista_sentencas = nltk.sent_tokenize(conteudo)"
   ]
  },
  {
   "cell_type": "code",
   "execution_count": null,
   "id": "8b740e14",
   "metadata": {},
   "outputs": [],
   "source": [
    "lista_sentencas"
   ]
  },
  {
   "cell_type": "code",
   "execution_count": null,
   "id": "81652d46",
   "metadata": {},
   "outputs": [],
   "source": [
    "!python -m spacy download pt_core_news_sm \n",
    "import spacy"
   ]
  },
  {
   "cell_type": "code",
   "execution_count": null,
   "id": "670f0957",
   "metadata": {},
   "outputs": [],
   "source": [
    "pln = spacy.load(\"pt_core_news_sm\") \n",
    "pln"
   ]
  },
  {
   "cell_type": "code",
   "execution_count": null,
   "id": "f5aee3f1",
   "metadata": {},
   "outputs": [],
   "source": [
    "stop_words = spacy.lang.pt.stop_words.STOP_WORDS"
   ]
  },
  {
   "cell_type": "code",
   "execution_count": null,
   "id": "56461960",
   "metadata": {},
   "outputs": [],
   "source": [
    "stop_words"
   ]
  },
  {
   "cell_type": "code",
   "execution_count": null,
   "id": "bee92dbf",
   "metadata": {},
   "outputs": [],
   "source": [
    "string.punctuation"
   ]
  },
  {
   "cell_type": "code",
   "execution_count": null,
   "id": "c4364791",
   "metadata": {},
   "outputs": [],
   "source": [
    "def preprocessamento(texto):\n",
    "  texto = re.sub(r\"https?://[A-Za-z0-9./]+\", ' ', texto)\n",
    "  documento = pln(texto)\n",
    "  lista = []\n",
    "  for token in documento:\n",
    "    lista.append(token.lemma_)\n",
    "  lista = [palavra for palavra in lista if palavra not in stop_words and palavra not in string.punctuation]\n",
    "  lista = ' '.join([str(elemento) for elemento in lista if not elemento.isdigit()])\n",
    "  return lista"
   ]
  },
  {
   "cell_type": "code",
   "execution_count": null,
   "id": "a6a87a7f",
   "metadata": {},
   "outputs": [],
   "source": [
    "lista_sentencas_preprocessada = []\n",
    "for i in range(len(lista_sentencas)):\n",
    "  lista_sentencas_preprocessada.append(preprocessamento(lista_sentencas[i]))"
   ]
  },
  {
   "cell_type": "code",
   "execution_count": null,
   "id": "98c962bd",
   "metadata": {},
   "outputs": [],
   "source": [
    "lista_sentencas_preprocessada"
   ]
  },
  {
   "cell_type": "code",
   "execution_count": null,
   "id": "e4c77246",
   "metadata": {},
   "outputs": [],
   "source": [
    "for _ in range(5):\n",
    "  i = random.randint(0, len(lista_sentencas) - 1)\n",
    "  print(lista_sentencas[i])\n",
    "  print(lista_sentencas_preprocessada[i])\n",
    "  print('-----')"
   ]
  },
  {
   "cell_type": "markdown",
   "id": "782f6638",
   "metadata": {},
   "source": [
    "# Etapa 04: Calcular"
   ]
  },
  {
   "cell_type": "code",
   "execution_count": null,
   "id": "e414afcd",
   "metadata": {},
   "outputs": [],
   "source": [
    "from sklearn.feature_extraction.text import TfidfVectorizer"
   ]
  },
  {
   "cell_type": "code",
   "execution_count": null,
   "id": "1b153c5c",
   "metadata": {},
   "outputs": [],
   "source": [
    "frases_teste = lista_sentencas_preprocessada\n",
    "frases_teste"
   ]
  },
  {
   "cell_type": "code",
   "execution_count": null,
   "id": "b0263fcf",
   "metadata": {},
   "outputs": [],
   "source": [
    "vetores_palavras = TfidfVectorizer()\n",
    "palavras_vetorizadas = vetores_palavras.fit_transform(frases_teste)"
   ]
  },
  {
   "cell_type": "code",
   "execution_count": null,
   "id": "6c6eed80",
   "metadata": {},
   "outputs": [],
   "source": [
    "type(palavras_vetorizadas)"
   ]
  },
  {
   "cell_type": "code",
   "execution_count": null,
   "id": "ab28222e",
   "metadata": {},
   "outputs": [],
   "source": [
    "palavras_vetorizadas"
   ]
  },
  {
   "cell_type": "code",
   "execution_count": null,
   "id": "8b551db2",
   "metadata": {},
   "outputs": [],
   "source": [
    "!pip install --upgrade scikit-learn\n",
    "\n",
    "print(vetores_palavras.get_feature_names_out())"
   ]
  },
  {
   "cell_type": "code",
   "execution_count": null,
   "id": "559f0ec9",
   "metadata": {},
   "outputs": [],
   "source": [
    "print(vetores_palavras.vocabulary_)"
   ]
  },
  {
   "cell_type": "code",
   "execution_count": null,
   "id": "3ba0eebb",
   "metadata": {},
   "outputs": [],
   "source": [
    "print(vetores_palavras.idf_)"
   ]
  },
  {
   "cell_type": "code",
   "execution_count": null,
   "id": "03783b7b",
   "metadata": {},
   "outputs": [],
   "source": [
    "palavras_vetorizadas.todense()"
   ]
  },
  {
   "cell_type": "markdown",
   "id": "6d7ea08c",
   "metadata": {},
   "source": [
    "# Similaridade Cosseno"
   ]
  },
  {
   "cell_type": "code",
   "execution_count": null,
   "id": "6a1cfeb5",
   "metadata": {},
   "outputs": [],
   "source": [
    "from sklearn.metrics.pairwise import cosine_similarity"
   ]
  },
  {
   "cell_type": "code",
   "execution_count": null,
   "id": "077cef29",
   "metadata": {},
   "outputs": [],
   "source": [
    "similaridade = cosine_similarity(palavras_vetorizadas[0], palavras_vetorizadas)"
   ]
  },
  {
   "cell_type": "code",
   "execution_count": null,
   "id": "950239b6",
   "metadata": {},
   "outputs": [],
   "source": [
    "similaridade"
   ]
  },
  {
   "cell_type": "code",
   "execution_count": null,
   "id": "3a057478",
   "metadata": {},
   "outputs": [],
   "source": [
    "similaridade.argsort()"
   ]
  },
  {
   "cell_type": "markdown",
   "id": "94a2caf0",
   "metadata": {},
   "source": [
    "# Testar CHATBOT"
   ]
  },
  {
   "cell_type": "code",
   "execution_count": null,
   "id": "70da5e22",
   "metadata": {},
   "outputs": [],
   "source": [
    "def responder(texto_usuario):\n",
    "  resposta_chatbot = ''\n",
    "  lista_sentencas_preprocessada.append(texto_usuario)\n",
    "\n",
    "  tfidf = TfidfVectorizer()\n",
    "  palavras_vetorizadas = tfidf.fit_transform(lista_sentencas_preprocessada)\n",
    "\n",
    "  similaridade = cosine_similarity(palavras_vetorizadas[-1], palavras_vetorizadas)\n",
    "\n",
    "  indice_sentenca = similaridade.argsort()[0][-2]\n",
    "  vetor_similar = similaridade.flatten()\n",
    "  vetor_similar.sort()\n",
    "  vetor_encontrado = vetor_similar[-2]\n",
    "\n",
    "  if (vetor_encontrado == 0):\n",
    "    resposta_chatbot = resposta_chatbot + 'Desculpe, mas não entendi!'\n",
    "    return resposta_chatbot\n",
    "  else:\n",
    "    resposta_chatbot = resposta_chatbot + lista_sentencas[indice_sentenca]\n",
    "    return resposta_chatbot\n"
   ]
  },
  {
   "cell_type": "code",
   "execution_count": null,
   "id": "a7657ed7",
   "metadata": {},
   "outputs": [],
   "source": [
    "continuar = True\n",
    "print('Olá, sou um chatbot e vou responder perguntas sobre inteligência artificial: ')\n",
    "while (continuar == True):\n",
    "  texto_usuario = input()\n",
    "  texto_usuario = texto_usuario.lower()\n",
    "  if (texto_usuario != 'sair'):\n",
    "    if (responder_saudacao(texto_usuario) != None):\n",
    "      print('Chatbot: ' + responder_saudacao(texto_usuario))\n",
    "    else:\n",
    "      print('Chatbot: ')\n",
    "      print(responder(preprocessamento(texto_usuario)))\n",
    "      lista_sentencas_preprocessada.remove(preprocessamento(texto_usuario))\n",
    "  else:\n",
    "    continuar = False\n",
    "    print('Chatbot: Até breve!')"
   ]
  },
  {
   "cell_type": "code",
   "execution_count": null,
   "id": "6fa718cd",
   "metadata": {},
   "outputs": [],
   "source": []
  },
  {
   "cell_type": "code",
   "execution_count": null,
   "id": "87fa19e6",
   "metadata": {},
   "outputs": [],
   "source": []
  }
 ],
 "metadata": {
  "kernelspec": {
   "display_name": "Python 3 (ipykernel)",
   "language": "python",
   "name": "python3"
  },
  "language_info": {
   "codemirror_mode": {
    "name": "ipython",
    "version": 3
   },
   "file_extension": ".py",
   "mimetype": "text/x-python",
   "name": "python",
   "nbconvert_exporter": "python",
   "pygments_lexer": "ipython3",
   "version": "3.11.5"
  }
 },
 "nbformat": 4,
 "nbformat_minor": 5
}
